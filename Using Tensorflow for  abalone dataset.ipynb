{
  "nbformat": 4,
  "nbformat_minor": 0,
  "metadata": {
    "colab": {
      "name": "Untitled7.ipynb",
      "provenance": [],
      "authorship_tag": "ABX9TyMCj/E2b7V+2q9gIple49ck",
      "include_colab_link": true
    },
    "kernelspec": {
      "name": "python3",
      "display_name": "Python 3"
    },
    "language_info": {
      "name": "python"
    },
    "accelerator": "GPU"
  },
  "cells": [
    {
      "cell_type": "markdown",
      "metadata": {
        "id": "view-in-github",
        "colab_type": "text"
      },
      "source": [
        "<a href=\"https://colab.research.google.com/github/dushyantsinghraghav/Visualisation-of-space-missions/blob/main/Using%20Tensorflow%20for%20%20abalone%20dataset.ipynb\" target=\"_parent\"><img src=\"https://colab.research.google.com/assets/colab-badge.svg\" alt=\"Open In Colab\"/></a>"
      ]
    },
    {
      "cell_type": "code",
      "execution_count": 1,
      "metadata": {
        "id": "bUxg7xq7_Kot"
      },
      "outputs": [],
      "source": [
        "#Importing the tensorflow library\n",
        "import tensorflow as tf\n",
        "from tensorflow.keras import layers\n",
        "import numpy as np\n",
        "import pandas as pd\n"
      ]
    },
    {
      "cell_type": "code",
      "source": [
        "abalone_train = pd.read_csv(\n",
        "    \"https://storage.googleapis.com/download.tensorflow.org/data/abalone_train.csv\",\n",
        "    names=[\"Length\", \"Diameter\", \"Height\", \"Whole weight\", \"Shucked weight\",\n",
        "           \"Viscera weight\", \"Shell weight\", \"Age\"])\n",
        "\n",
        "abalone_train.head()\n",
        "abalone_train.describe().transpose()"
      ],
      "metadata": {
        "id": "TVOoG6rMC-Fm",
        "outputId": "fe5bee52-c9f3-452d-bbd6-da0c48d9cfb8",
        "colab": {
          "base_uri": "https://localhost:8080/",
          "height": 300
        }
      },
      "execution_count": 2,
      "outputs": [
        {
          "output_type": "execute_result",
          "data": {
            "text/html": [
              "\n",
              "  <div id=\"df-8f5c353e-8c0d-43d9-865a-bacf63902e12\">\n",
              "    <div class=\"colab-df-container\">\n",
              "      <div>\n",
              "<style scoped>\n",
              "    .dataframe tbody tr th:only-of-type {\n",
              "        vertical-align: middle;\n",
              "    }\n",
              "\n",
              "    .dataframe tbody tr th {\n",
              "        vertical-align: top;\n",
              "    }\n",
              "\n",
              "    .dataframe thead th {\n",
              "        text-align: right;\n",
              "    }\n",
              "</style>\n",
              "<table border=\"1\" class=\"dataframe\">\n",
              "  <thead>\n",
              "    <tr style=\"text-align: right;\">\n",
              "      <th></th>\n",
              "      <th>count</th>\n",
              "      <th>mean</th>\n",
              "      <th>std</th>\n",
              "      <th>min</th>\n",
              "      <th>25%</th>\n",
              "      <th>50%</th>\n",
              "      <th>75%</th>\n",
              "      <th>max</th>\n",
              "    </tr>\n",
              "  </thead>\n",
              "  <tbody>\n",
              "    <tr>\n",
              "      <th>Length</th>\n",
              "      <td>3320.0</td>\n",
              "      <td>0.522693</td>\n",
              "      <td>0.121164</td>\n",
              "      <td>0.0750</td>\n",
              "      <td>0.450000</td>\n",
              "      <td>0.54000</td>\n",
              "      <td>0.615000</td>\n",
              "      <td>0.8150</td>\n",
              "    </tr>\n",
              "    <tr>\n",
              "      <th>Diameter</th>\n",
              "      <td>3320.0</td>\n",
              "      <td>0.406575</td>\n",
              "      <td>0.100120</td>\n",
              "      <td>0.0550</td>\n",
              "      <td>0.345000</td>\n",
              "      <td>0.42500</td>\n",
              "      <td>0.480000</td>\n",
              "      <td>0.6500</td>\n",
              "    </tr>\n",
              "    <tr>\n",
              "      <th>Height</th>\n",
              "      <td>3320.0</td>\n",
              "      <td>0.139271</td>\n",
              "      <td>0.042708</td>\n",
              "      <td>0.0000</td>\n",
              "      <td>0.115000</td>\n",
              "      <td>0.14000</td>\n",
              "      <td>0.165000</td>\n",
              "      <td>1.1300</td>\n",
              "    </tr>\n",
              "    <tr>\n",
              "      <th>Whole weight</th>\n",
              "      <td>3320.0</td>\n",
              "      <td>0.824734</td>\n",
              "      <td>0.491182</td>\n",
              "      <td>0.0020</td>\n",
              "      <td>0.436375</td>\n",
              "      <td>0.79525</td>\n",
              "      <td>1.150000</td>\n",
              "      <td>2.8255</td>\n",
              "    </tr>\n",
              "    <tr>\n",
              "      <th>Shucked weight</th>\n",
              "      <td>3320.0</td>\n",
              "      <td>0.357705</td>\n",
              "      <td>0.222223</td>\n",
              "      <td>0.0010</td>\n",
              "      <td>0.181500</td>\n",
              "      <td>0.33550</td>\n",
              "      <td>0.504500</td>\n",
              "      <td>1.4880</td>\n",
              "    </tr>\n",
              "    <tr>\n",
              "      <th>Viscera weight</th>\n",
              "      <td>3320.0</td>\n",
              "      <td>0.180162</td>\n",
              "      <td>0.110182</td>\n",
              "      <td>0.0005</td>\n",
              "      <td>0.092000</td>\n",
              "      <td>0.17075</td>\n",
              "      <td>0.253125</td>\n",
              "      <td>0.7600</td>\n",
              "    </tr>\n",
              "    <tr>\n",
              "      <th>Shell weight</th>\n",
              "      <td>3320.0</td>\n",
              "      <td>0.237921</td>\n",
              "      <td>0.140261</td>\n",
              "      <td>0.0015</td>\n",
              "      <td>0.127375</td>\n",
              "      <td>0.23000</td>\n",
              "      <td>0.325000</td>\n",
              "      <td>1.0050</td>\n",
              "    </tr>\n",
              "    <tr>\n",
              "      <th>Age</th>\n",
              "      <td>3320.0</td>\n",
              "      <td>9.896988</td>\n",
              "      <td>3.205654</td>\n",
              "      <td>1.0000</td>\n",
              "      <td>8.000000</td>\n",
              "      <td>9.00000</td>\n",
              "      <td>11.000000</td>\n",
              "      <td>27.0000</td>\n",
              "    </tr>\n",
              "  </tbody>\n",
              "</table>\n",
              "</div>\n",
              "      <button class=\"colab-df-convert\" onclick=\"convertToInteractive('df-8f5c353e-8c0d-43d9-865a-bacf63902e12')\"\n",
              "              title=\"Convert this dataframe to an interactive table.\"\n",
              "              style=\"display:none;\">\n",
              "        \n",
              "  <svg xmlns=\"http://www.w3.org/2000/svg\" height=\"24px\"viewBox=\"0 0 24 24\"\n",
              "       width=\"24px\">\n",
              "    <path d=\"M0 0h24v24H0V0z\" fill=\"none\"/>\n",
              "    <path d=\"M18.56 5.44l.94 2.06.94-2.06 2.06-.94-2.06-.94-.94-2.06-.94 2.06-2.06.94zm-11 1L8.5 8.5l.94-2.06 2.06-.94-2.06-.94L8.5 2.5l-.94 2.06-2.06.94zm10 10l.94 2.06.94-2.06 2.06-.94-2.06-.94-.94-2.06-.94 2.06-2.06.94z\"/><path d=\"M17.41 7.96l-1.37-1.37c-.4-.4-.92-.59-1.43-.59-.52 0-1.04.2-1.43.59L10.3 9.45l-7.72 7.72c-.78.78-.78 2.05 0 2.83L4 21.41c.39.39.9.59 1.41.59.51 0 1.02-.2 1.41-.59l7.78-7.78 2.81-2.81c.8-.78.8-2.07 0-2.86zM5.41 20L4 18.59l7.72-7.72 1.47 1.35L5.41 20z\"/>\n",
              "  </svg>\n",
              "      </button>\n",
              "      \n",
              "  <style>\n",
              "    .colab-df-container {\n",
              "      display:flex;\n",
              "      flex-wrap:wrap;\n",
              "      gap: 12px;\n",
              "    }\n",
              "\n",
              "    .colab-df-convert {\n",
              "      background-color: #E8F0FE;\n",
              "      border: none;\n",
              "      border-radius: 50%;\n",
              "      cursor: pointer;\n",
              "      display: none;\n",
              "      fill: #1967D2;\n",
              "      height: 32px;\n",
              "      padding: 0 0 0 0;\n",
              "      width: 32px;\n",
              "    }\n",
              "\n",
              "    .colab-df-convert:hover {\n",
              "      background-color: #E2EBFA;\n",
              "      box-shadow: 0px 1px 2px rgba(60, 64, 67, 0.3), 0px 1px 3px 1px rgba(60, 64, 67, 0.15);\n",
              "      fill: #174EA6;\n",
              "    }\n",
              "\n",
              "    [theme=dark] .colab-df-convert {\n",
              "      background-color: #3B4455;\n",
              "      fill: #D2E3FC;\n",
              "    }\n",
              "\n",
              "    [theme=dark] .colab-df-convert:hover {\n",
              "      background-color: #434B5C;\n",
              "      box-shadow: 0px 1px 3px 1px rgba(0, 0, 0, 0.15);\n",
              "      filter: drop-shadow(0px 1px 2px rgba(0, 0, 0, 0.3));\n",
              "      fill: #FFFFFF;\n",
              "    }\n",
              "  </style>\n",
              "\n",
              "      <script>\n",
              "        const buttonEl =\n",
              "          document.querySelector('#df-8f5c353e-8c0d-43d9-865a-bacf63902e12 button.colab-df-convert');\n",
              "        buttonEl.style.display =\n",
              "          google.colab.kernel.accessAllowed ? 'block' : 'none';\n",
              "\n",
              "        async function convertToInteractive(key) {\n",
              "          const element = document.querySelector('#df-8f5c353e-8c0d-43d9-865a-bacf63902e12');\n",
              "          const dataTable =\n",
              "            await google.colab.kernel.invokeFunction('convertToInteractive',\n",
              "                                                     [key], {});\n",
              "          if (!dataTable) return;\n",
              "\n",
              "          const docLinkHtml = 'Like what you see? Visit the ' +\n",
              "            '<a target=\"_blank\" href=https://colab.research.google.com/notebooks/data_table.ipynb>data table notebook</a>'\n",
              "            + ' to learn more about interactive tables.';\n",
              "          element.innerHTML = '';\n",
              "          dataTable['output_type'] = 'display_data';\n",
              "          await google.colab.output.renderOutput(dataTable, element);\n",
              "          const docLink = document.createElement('div');\n",
              "          docLink.innerHTML = docLinkHtml;\n",
              "          element.appendChild(docLink);\n",
              "        }\n",
              "      </script>\n",
              "    </div>\n",
              "  </div>\n",
              "  "
            ],
            "text/plain": [
              "                 count      mean       std  ...      50%        75%      max\n",
              "Length          3320.0  0.522693  0.121164  ...  0.54000   0.615000   0.8150\n",
              "Diameter        3320.0  0.406575  0.100120  ...  0.42500   0.480000   0.6500\n",
              "Height          3320.0  0.139271  0.042708  ...  0.14000   0.165000   1.1300\n",
              "Whole weight    3320.0  0.824734  0.491182  ...  0.79525   1.150000   2.8255\n",
              "Shucked weight  3320.0  0.357705  0.222223  ...  0.33550   0.504500   1.4880\n",
              "Viscera weight  3320.0  0.180162  0.110182  ...  0.17075   0.253125   0.7600\n",
              "Shell weight    3320.0  0.237921  0.140261  ...  0.23000   0.325000   1.0050\n",
              "Age             3320.0  9.896988  3.205654  ...  9.00000  11.000000  27.0000\n",
              "\n",
              "[8 rows x 8 columns]"
            ]
          },
          "metadata": {},
          "execution_count": 2
        }
      ]
    },
    {
      "cell_type": "code",
      "source": [
        "abalone_features = abalone_train.copy()\n",
        "abalone_labels = abalone_features.pop('Age')"
      ],
      "metadata": {
        "id": "qK-bJbWShEJC"
      },
      "execution_count": 3,
      "outputs": []
    },
    {
      "cell_type": "code",
      "source": [
        "abalone_features = np.array(abalone_features)\n",
        "abalone_labels=np.array(abalone_labels)\n",
        "print(abalone_features)"
      ],
      "metadata": {
        "id": "I0eReNNnhJHU",
        "outputId": "6ba068f2-6225-4e1b-c033-3e38b8bd5b7b",
        "colab": {
          "base_uri": "https://localhost:8080/"
        }
      },
      "execution_count": 5,
      "outputs": [
        {
          "output_type": "stream",
          "name": "stdout",
          "text": [
            "[[0.435  0.335  0.11   ... 0.1355 0.0775 0.0965]\n",
            " [0.585  0.45   0.125  ... 0.3545 0.2075 0.225 ]\n",
            " [0.655  0.51   0.16   ... 0.396  0.2825 0.37  ]\n",
            " ...\n",
            " [0.53   0.42   0.13   ... 0.3745 0.167  0.249 ]\n",
            " [0.395  0.315  0.105  ... 0.1185 0.091  0.1195]\n",
            " [0.45   0.355  0.12   ... 0.1145 0.0665 0.16  ]]\n"
          ]
        }
      ]
    },
    {
      "cell_type": "code",
      "source": [
        "abalone_model = tf.keras.Sequential([\n",
        "  layers.Dense(64),\n",
        "  layers.Dense(1)\n",
        "])\n",
        "\n",
        "abalone_model.compile(loss = tf.losses.MeanSquaredError(),\n",
        "                      optimizer = tf.optimizers.Adam())"
      ],
      "metadata": {
        "id": "QxuUNYGJhVAv"
      },
      "execution_count": 6,
      "outputs": []
    },
    {
      "cell_type": "code",
      "source": [
        "abalone_model.fit(abalone_features,abalone_labels,epochs=10)"
      ],
      "metadata": {
        "id": "LbC7oS4Jhfmw",
        "outputId": "12f2d8f2-08e8-4823-ecbf-e259ec0306a1",
        "colab": {
          "base_uri": "https://localhost:8080/"
        }
      },
      "execution_count": 7,
      "outputs": [
        {
          "output_type": "stream",
          "name": "stdout",
          "text": [
            "Epoch 1/10\n",
            "104/104 [==============================] - 2s 3ms/step - loss: 69.8591\n",
            "Epoch 2/10\n",
            "104/104 [==============================] - 0s 3ms/step - loss: 13.2554\n",
            "Epoch 3/10\n",
            "104/104 [==============================] - 0s 3ms/step - loss: 8.7469\n",
            "Epoch 4/10\n",
            "104/104 [==============================] - 0s 3ms/step - loss: 8.2544\n",
            "Epoch 5/10\n",
            "104/104 [==============================] - 0s 3ms/step - loss: 7.8099\n",
            "Epoch 6/10\n",
            "104/104 [==============================] - 1s 5ms/step - loss: 7.4320\n",
            "Epoch 7/10\n",
            "104/104 [==============================] - 1s 6ms/step - loss: 7.1345\n",
            "Epoch 8/10\n",
            "104/104 [==============================] - 1s 6ms/step - loss: 6.8968\n",
            "Epoch 9/10\n",
            "104/104 [==============================] - 1s 5ms/step - loss: 6.7438\n",
            "Epoch 10/10\n",
            "104/104 [==============================] - 0s 3ms/step - loss: 6.6116\n"
          ]
        },
        {
          "output_type": "execute_result",
          "data": {
            "text/plain": [
              "<keras.callbacks.History at 0x7f10d1934110>"
            ]
          },
          "metadata": {},
          "execution_count": 7
        }
      ]
    },
    {
      "cell_type": "code",
      "source": [
        "## Basic preprocessing\n",
        "normalize=layers.Normalization()\n",
        "normalize.adapt(abalone_features)"
      ],
      "metadata": {
        "id": "l7UcNpPvhr_q"
      },
      "execution_count": 8,
      "outputs": []
    },
    {
      "cell_type": "code",
      "source": [
        "#Now we use the normalization layers in our model\n",
        "norm_abalone_model=tf.keras.Sequential(\n",
        "    [normalize,\n",
        "     layers.Dense(64),\n",
        "     layers.Dense(1)]\n",
        ")\n",
        "norm_abalone_model.compile(loss=tf.losses.MeanSquaredError(),\n",
        "                           optimizer=tf.optimizers.Adam())\n",
        "norm_abalone_model.fit(abalone_features,abalone_labels,epochs=10)"
      ],
      "metadata": {
        "id": "zM-QwOIOicjW",
        "outputId": "7095e475-1a07-4970-caa5-3ea7759a37ee",
        "colab": {
          "base_uri": "https://localhost:8080/"
        }
      },
      "execution_count": 10,
      "outputs": [
        {
          "output_type": "stream",
          "name": "stdout",
          "text": [
            "Epoch 1/10\n",
            "104/104 [==============================] - 1s 6ms/step - loss: 92.1239\n",
            "Epoch 2/10\n",
            "104/104 [==============================] - 1s 6ms/step - loss: 52.4778\n",
            "Epoch 3/10\n",
            "104/104 [==============================] - 1s 5ms/step - loss: 15.8361\n",
            "Epoch 4/10\n",
            "104/104 [==============================] - 1s 6ms/step - loss: 5.7263\n",
            "Epoch 5/10\n",
            "104/104 [==============================] - 1s 7ms/step - loss: 5.0372\n",
            "Epoch 6/10\n",
            "104/104 [==============================] - 1s 6ms/step - loss: 4.9900\n",
            "Epoch 7/10\n",
            "104/104 [==============================] - 1s 6ms/step - loss: 4.9809\n",
            "Epoch 8/10\n",
            "104/104 [==============================] - 1s 6ms/step - loss: 4.9334\n",
            "Epoch 9/10\n",
            "104/104 [==============================] - 1s 6ms/step - loss: 4.9677\n",
            "Epoch 10/10\n",
            "104/104 [==============================] - 1s 6ms/step - loss: 4.9348\n"
          ]
        },
        {
          "output_type": "execute_result",
          "data": {
            "text/plain": [
              "<keras.callbacks.History at 0x7f10ceeb7fd0>"
            ]
          },
          "metadata": {},
          "execution_count": 10
        }
      ]
    },
    {
      "cell_type": "code",
      "source": [
        "#Now we print the model.history after normalization\n",
        "print(norm_abalone_model.history)"
      ],
      "metadata": {
        "id": "kiPHURuYjM-n",
        "outputId": "f6a23aa5-fb86-46ea-ed7b-f66f2fecc5f3",
        "colab": {
          "base_uri": "https://localhost:8080/"
        }
      },
      "execution_count": 16,
      "outputs": [
        {
          "output_type": "stream",
          "name": "stdout",
          "text": [
            "<keras.callbacks.History object at 0x7f10ceeb7fd0>\n"
          ]
        }
      ]
    },
    {
      "cell_type": "code",
      "source": [
        ""
      ],
      "metadata": {
        "id": "e3Fuftnzicui"
      },
      "execution_count": null,
      "outputs": []
    }
  ]
}